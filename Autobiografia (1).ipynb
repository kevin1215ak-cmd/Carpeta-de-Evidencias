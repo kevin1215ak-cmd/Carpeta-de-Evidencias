{
 "cells": [
  {
   "cell_type": "markdown",
   "id": "972c210c-8351-45dc-b6d5-b53af13712c0",
   "metadata": {},
   "source": [
    "## Mi Autobiografia"
   ]
  },
  {
   "cell_type": "markdown",
   "id": "49edeba6-8ce4-452f-868d-40de29472cfe",
   "metadata": {},
   "source": [
    "#### Mi nombre es Kevin Yael Garduño Espinoza, nací el 12 de Junio del 2005, en la clínica <span style=\"color:red\">*Sagrado Corazón*</span> ubicada en la Ciudad de México. Mi familia:\n",
    "|           Nombre              |  Edad | Parentesco |\n",
    "|-------------------------------|-------|------------|\n",
    "| Brenda Espinoza García        |  39   |   Mamá     |\n",
    "| Juan Gregorio Bello Hernández |  44   |   Papá     |\n",
    "| Lesly Gualupe Garduño Espinoza|  22   |  Hermana   |\n",
    "| Luis Eduardo López Espinoza   |  14   |  Hermano   |\n",
    "#### Estudié mi preescolar en el <span style=\"color:red\">*Jardín de Niños Luz María Serradell*</span>, el cual se encontraba en la Ciudad de México, en este solo curse dos años.\n",
    "#### Después estudié mi primaria en la escuela <span style=\"color:red\">*Primaria Niños Heroes*</span>, el cual solo curse hasta cuarto grado, ya que en ese tiempo me mude a Toluca, estando en Toluca curse mis últimos dos años de mi educación Primaria.\n",
    "#### Mientras cursaba esos dos últimos años de Primaria, mis papás mi ingresaron a una escuela Militar, en la cual estuve 6 años, donde solo asistia Sabados y Domimgos, relizaba actividades como:\n",
    "- Pecho tierra \n",
    "- Lagartillas \n",
    "- Atletismo \n",
    "- Natación \n",
    "- Salto de longitud\n",
    "#### En ese tiempo logré hacerme cadete de infantería gracias a la disciplina que tenia. Así como también logré lo siguiente:\n",
    "|           Actividad           | Lugar |\n",
    "|-------------------------------|-------|\n",
    "|          Atletismo            |Primero|\n",
    "|     Salto de Longitud         |Primero| \n",
    "|         Natación              |Tercero|\n",
    "#### El logro en salto de longitud fue a nivel Estatal.\n",
    "\n",
    "#### Después me mude a Zinacantepec en un municipio que se llama *\"Santa María del Monte\"*, en el cual curse la Secundaria, en la <span style=\"color:red\">*Secundaria 16 de Septiembre*</span>, la curse completa ahí, fue una etapa muy bonita, donde conocí buenas amistades. En mis tres años de la secundaria, logré llevarme los primeros lugares como el mejor goleador.\n",
    "\n",
    "\n",
    "\n",
    "#### Cuando concluí con mis estudios de la Secundaria, pensaba estudiar en la Preparatoria Número 1, pero lamentablemente se me pasaron las fechas de los exámenes de admisión, entonces realicé exámen para el <span style=\"color:red\">*CBT No.2 Zinacantepec*</span>, en el cuál de igual manera la curse completa ahí, mi logro destacado fue graduarme y titularme por promedio con una carpeta de excelencia en el cuál, para el titulo tuve que realizar una memoria de trabajo de un proyecto, asi fue como obtuve mi titulo como *\"Técnico en Informática\"*, depués en la etapa de la Universidad, mi primera opción era el CUI pero en la carrera de Derecho, pero termine en decidirme por estudiar Ingenieria en Computación, y hasta el momento sigo en Quinto Semestre, con buenas y nuevas experiencias.\n",
    "\n",
    "#### Mi color favorito es el <span style=\"color:blue\">azul</span>. Mi comida favorita son las enchiladas, anteriormente no me gustaban los tacos, pero ahora también podria decir que es algo de mi comida favorita. \n",
    "![Enchiladas verdes](https://cdn7.kiwilimon.com/recetaimagen/36938/640x426/50874.jpg.webp)\n",
    "\n",
    "#### Me gustan mucho las peliculas de acción, unas de mis favoritas son las de Rapidos y Furiosos. Comparto algunos gustos por los carros, especialmente por el mio, me gusta mucho realizar varios cambios.\n",
    "\n",
    "#### Algo que me gusta hacer cuando estoy estresado, es jugar frontón 🎾, es algo donde creó que saco todo mi estrés, de igual forma me gusta jugar futbol.⚽\n",
    "<img src=\"https://inde.com.mx/img/instalaciones/fronton-venustiano-carranza.png\" \n",
    "     alt=\"Frontón\" \n",
    "     width=\"500\">\n"
   ]
  },
  {
   "cell_type": "code",
   "execution_count": null,
   "id": "f15199ff-55b7-4305-ab0f-8061883c7fae",
   "metadata": {},
   "outputs": [],
   "source": []
  }
 ],
 "metadata": {
  "kernelspec": {
   "display_name": "Python [conda env:AUTOBIOGRAFIA]",
   "language": "python",
   "name": "conda-env-AUTOBIOGRAFIA-py"
  },
  "language_info": {
   "codemirror_mode": {
    "name": "ipython",
    "version": 3
   },
   "file_extension": ".py",
   "mimetype": "text/x-python",
   "name": "python",
   "nbconvert_exporter": "python",
   "pygments_lexer": "ipython3",
   "version": "3.13.5"
  }
 },
 "nbformat": 4,
 "nbformat_minor": 5
}
