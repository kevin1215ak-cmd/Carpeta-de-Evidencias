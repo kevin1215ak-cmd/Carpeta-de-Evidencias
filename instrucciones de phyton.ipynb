{
 "cells": [
  {
   "cell_type": "markdown",
   "id": "eaa35f7f-5ff5-4f93-a967-b3ecf94bdb97",
   "metadata": {},
   "source": [
    "## LIBRERIA"
   ]
  },
  {
   "cell_type": "code",
   "execution_count": 2,
   "id": "dc511085-dba7-41a0-9d3f-b1b0b6d29280",
   "metadata": {},
   "outputs": [
    {
     "name": "stdout",
     "output_type": "stream",
     "text": [
      "Raíz de 144: 12.0\n",
      "Tiro de dado: 1\n",
      "Cumpleaños: 2000-01-15\n"
     ]
    }
   ],
   "source": [
    "import math\n",
    "import random\n",
    "from datetime import date\n",
    "\n",
    "raiz_144 = math.sqrt(144)          # raíz cuadrada\n",
    "dado = random.randint(1, 6)        # entero aleatorio 1..6\n",
    "cumple = date(2000, 1, 15)         # cambia a tu fecha real\n",
    "\n",
    "print(\"Raíz de 144:\", raiz_144)\n",
    "print(\"Tiro de dado:\", dado)\n",
    "print(\"Cumpleaños:\", cumple.isoformat())"
   ]
  },
  {
   "cell_type": "markdown",
   "id": "43f241f9-90d7-42ad-9829-50340685fbf3",
   "metadata": {},
   "source": [
    "Se Carga un  código prehecho para usar funciones específicas sin programarlas desde cero."
   ]
  },
  {
   "cell_type": "markdown",
   "id": "85522fe3-c07e-4b26-8164-0a114c189890",
   "metadata": {},
   "source": [
    "## Variables y tipos de datos"
   ]
  },
  {
   "cell_type": "code",
   "execution_count": 5,
   "id": "86b47eeb-e687-4e56-8f58-1e6c1082125e",
   "metadata": {},
   "outputs": [
    {
     "name": "stdout",
     "output_type": "stream",
     "text": [
      "María <class 'str'>\n",
      "17 <class 'int'>\n",
      "1.65 <class 'float'>\n",
      "True <class 'bool'>\n",
      "['Mate', 'Fis', 'Prog'] <class 'list'>\n",
      "(19.4, -99.1) <class 'tuple'>\n",
      "{1, 2, 3} <class 'set'>\n",
      "{'usuario': 'maria17', 'pais': 'MX'} <class 'dict'>\n"
     ]
    }
   ],
   "source": [
    "nombre = \"María\"        # str\n",
    "edad = 17               # int\n",
    "altura_m = 1.65         # float\n",
    "estudiante = True       # bool\n",
    "materias = [\"Mate\", \"Fis\", \"Prog\"]  # list\n",
    "coordenadas = (19.4, -99.1)         # tuple\n",
    "unicos = {1, 2, 2, 3}               # set (sin duplicados)\n",
    "perfil = {\"usuario\": \"maria17\", \"pais\": \"MX\"}  # dict\n",
    "\n",
    "print(nombre, type(nombre))\n",
    "print(edad, type(edad))\n",
    "print(altura_m, type(altura_m))\n",
    "print(estudiante, type(estudiante))\n",
    "print(materias, type(materias))\n",
    "print(coordenadas, type(coordenadas))\n",
    "print(unicos, type(unicos))\n",
    "print(perfil, type(perfil))"
   ]
  },
  {
   "cell_type": "markdown",
   "id": "981a35e9-44fa-4f1a-8729-1119e8623ee0",
   "metadata": {},
   "source": [
    "Crear contenedores con nombre que almacenan valores (números, texto, etc.) con tipo automático.\n"
   ]
  },
  {
   "cell_type": "markdown",
   "id": "c415cebd-a183-4989-a5d7-e0cfc81d96f5",
   "metadata": {},
   "source": [
    "## Entrada/Salida y conversiones"
   ]
  },
  {
   "cell_type": "code",
   "execution_count": 6,
   "id": "600ac002-c30b-4390-b030-bb349a6057f5",
   "metadata": {},
   "outputs": [
    {
     "name": "stdout",
     "output_type": "stream",
     "text": [
      "a=12.5 (float), b=3 (int) -> suma=15.5, división=4.17\n"
     ]
    }
   ],
   "source": [
    "a_texto = \"12.5\"\n",
    "b_texto = \"3\"\n",
    "\n",
    "a = float(a_texto)  # 12.5\n",
    "b = int(b_texto)    # 3\n",
    "\n",
    "suma = a + b\n",
    "division = a / b\n",
    "\n",
    "print(f\"a={a} (float), b={b} (int) -> suma={suma}, división={division:.2f}\")"
   ]
  },
  {
   "cell_type": "markdown",
   "id": "0c4c55dd-9537-4ad3-b2c4-f8fecd156872",
   "metadata": {},
   "source": [
    "Nos Muestra la  información (print), recibir datos (input) y transformar entre tipos (ej: texto a número)."
   ]
  },
  {
   "cell_type": "markdown",
   "id": "bc97dd08-b580-41ec-9d2d-0333b6e81a4f",
   "metadata": {},
   "source": [
    "## Operadores y expresiones"
   ]
  },
  {
   "cell_type": "code",
   "execution_count": 7,
   "id": "99b29a32-4b66-47f2-a773-291f721b566a",
   "metadata": {},
   "outputs": [
    {
     "name": "stdout",
     "output_type": "stream",
     "text": [
      "2 + 3 * 4 = 14\n",
      "(2 + 3) * 4 = 20\n",
      "7 // 3 = 2  7 % 3 = 1\n",
      "2 ** 3 ** 2 = 512\n",
      "¿Aprueba? True\n"
     ]
    }
   ],
   "source": [
    "print(\"2 + 3 * 4 =\", 2 + 3 * 4)           # 14\n",
    "print(\"(2 + 3) * 4 =\", (2 + 3) * 4)       # 20\n",
    "print(\"7 // 3 =\", 7 // 3, \" 7 % 3 =\", 7 % 3)  # 2 y 1\n",
    "print(\"2 ** 3 ** 2 =\", 2 ** 3 ** 2)       # 2 ** (3**2) = 2 ** 9 = 512\n",
    "\n",
    "# Lógicos: aprobar si promedio>=7 y asistencia>=0.8\n",
    "promedio, asistencia = 7.2, 0.85\n",
    "aprueba = (promedio >= 7) and (asistencia >= 0.8)\n",
    "print(\"¿Aprueba?\", aprueba)"
   ]
  },
  {
   "cell_type": "markdown",
   "id": "9aa0bb69-a1a5-4210-80c7-c12427ba9e8c",
   "metadata": {},
   "source": [
    " Realiza cálculos matemáticos, comparaciones y lógica con reglas de precedencia."
   ]
  },
  {
   "cell_type": "markdown",
   "id": "4853c75e-f876-44ae-88c5-9104995aa886",
   "metadata": {},
   "source": [
    "## Cadenas (strings)"
   ]
  },
  {
   "cell_type": "code",
   "execution_count": 8,
   "id": "e8cd074e-7198-4904-9798-ab42b89ae2a9",
   "metadata": {},
   "outputs": [
    {
     "name": "stdout",
     "output_type": "stream",
     "text": [
      "Original: '   Python ES Genial  '\n",
      "Limpia: python es fantástico\n",
      "Palabras: ['python', 'es', 'fantástico']\n",
      "¿Anita lava la tina es palíndromo? True\n",
      "¿Hola mundo es palíndromo? False\n"
     ]
    }
   ],
   "source": [
    "s = \"   Python ES Genial  \"\n",
    "limpia = s.strip().lower().replace(\"genial\", \"fantástico\")\n",
    "palabras = limpia.split()\n",
    "\n",
    "print(\"Original:\", repr(s))\n",
    "print(\"Limpia:\", limpia)\n",
    "print(\"Palabras:\", palabras)\n",
    "\n",
    "# Pequeña utilidad: detectar palíndromos (ignorando espacios y mayúsculas)\n",
    "def es_palindromo(texto: str) -> bool:\n",
    "    t = \"\".join(ch.lower() for ch in texto if ch.isalnum())\n",
    "    return t == t[::-1]\n",
    "\n",
    "print(\"¿Anita lava la tina es palíndromo?\", es_palindromo(\"Anita lava la tina\"))\n",
    "print(\"¿Hola mundo es palíndromo?\", es_palindromo(\"Hola mundo\"))"
   ]
  },
  {
   "cell_type": "markdown",
   "id": "631fccaf-398a-4e2d-bc60-32e7b19205ed",
   "metadata": {},
   "source": [
    "Manipulan el  texto: limpiar, dividir, buscar y formatear (f-strings)."
   ]
  },
  {
   "cell_type": "markdown",
   "id": "4283d990-442b-499a-ab57-b3c5a1f0fce2",
   "metadata": {},
   "source": [
    "## Control de flujo: if, for, while"
   ]
  },
  {
   "cell_type": "code",
   "execution_count": 9,
   "id": "9cffc5a2-9847-4e02-877c-00f6f5fedb25",
   "metadata": {},
   "outputs": [
    {
     "name": "stdout",
     "output_type": "stream",
     "text": [
      "Suma de cuadrados 1..5 = 55\n",
      "Fibonacci (8): [0, 1, 1, 2, 3, 5, 8, 13]\n"
     ]
    }
   ],
   "source": [
    "suma_cuad = 0\n",
    "for n in range(1, 6):\n",
    "    cuadrado = n * n\n",
    "    if cuadrado % 2 == 0:\n",
    "        pass  # no hacemos nada especial; es solo de ejemplo\n",
    "    suma_cuad += cuadrado\n",
    "print(\"Suma de cuadrados 1..5 =\", suma_cuad)\n",
    "\n",
    "# while: generar primeros 8 Fibonacci\n",
    "fib = [0, 1]\n",
    "while len(fib) < 8:\n",
    "    fib.append(fib[-1] + fib[-2])\n",
    "print(\"Fibonacci (8):\", fib)\n"
   ]
  },
  {
   "cell_type": "markdown",
   "id": "c193e063-3c17-48ca-a3df-2e606bec793f",
   "metadata": {},
   "source": [
    "Tomar decisiones (if) y repetir código (for/while) bajo condiciones."
   ]
  },
  {
   "cell_type": "markdown",
   "id": "04dca4c4-9669-4672-8ac9-430552547ccc",
   "metadata": {},
   "source": [
    "##  Colecciones: listas, tuplas, conjuntos, diccionarios"
   ]
  },
  {
   "cell_type": "code",
   "execution_count": 10,
   "id": "b1413038-c34b-4046-b454-f7c0bb9074c0",
   "metadata": {},
   "outputs": [
    {
     "name": "stdout",
     "output_type": "stream",
     "text": [
      "Lista compras: ['arroz', 'huevo', 'leche', 'manzana']  ¿leche? True\n",
      "Tupla punto: (3, 4)\n",
      "Únicos: {1, 2, 3}\n",
      "Promedio Ana: 9.0 Promedio grupo: 8.17\n"
     ]
    }
   ],
   "source": [
    "compras = [\"pan\", \"leche\", \"huevo\", \"arroz\"]\n",
    "compras.append(\"manzana\")\n",
    "compras.remove(\"pan\")\n",
    "compras.sort()\n",
    "print(\"Lista compras:\", compras, \" ¿leche?\", \"leche\" in compras)\n",
    "\n",
    "# Tupla\n",
    "punto = (3, 4)\n",
    "print(\"Tupla punto:\", punto)\n",
    "\n",
    "# Conjunto (quita duplicados)\n",
    "nums = [1, 2, 2, 3, 3, 3]\n",
    "unicos = set(nums)\n",
    "print(\"Únicos:\", unicos)\n",
    "\n",
    "# Diccionario\n",
    "calif = {\"Ana\": [9, 8, 10], \"Luis\": [7, 7, 8]}\n",
    "prom_ana = sum(calif[\"Ana\"]) / len(calif[\"Ana\"])\n",
    "prom_grupo = sum(sum(v) for v in calif.values()) / sum(len(v) for v in calif.values())\n",
    "print(\"Promedio Ana:\", prom_ana, \"Promedio grupo:\", round(prom_grupo, 2))"
   ]
  },
  {
   "cell_type": "markdown",
   "id": "df0c37b0-6e03-4d34-bb58-716a5acb4eee",
   "metadata": {},
   "source": [
    "Son Estructuras para agrupar datos: listas (mutables), tuplas (fijas), conjuntos (únicos) y diccionarios (clave-valor)."
   ]
  },
  {
   "cell_type": "markdown",
   "id": "5259ad03-722f-405f-95e5-a03f6b626a56",
   "metadata": {},
   "source": [
    "## Comprensiones (listas, sets y diccionarios)"
   ]
  },
  {
   "cell_type": "code",
   "execution_count": 11,
   "id": "2b9d053a-d7b6-4e2a-b55a-0b57be8d3ffa",
   "metadata": {},
   "outputs": [
    {
     "name": "stdout",
     "output_type": "stream",
     "text": [
      "Cuadrados: [1, 4, 9, 16, 25, 36, 49, 64, 81, 100]\n",
      "Pares: [4, 16, 36, 64, 100]\n",
      "Inverso simple: {'Sofía': 'Física', 'Carlos': 'Historia'}\n",
      "Letras sin vocales: {'g', 'r', 'n', 'c', 'm', 'p'}\n"
     ]
    }
   ],
   "source": [
    "cuadrados = [n*n for n in range(1, 11)]\n",
    "pares = [x for x in cuadrados if x % 2 == 0]\n",
    "print(\"Cuadrados:\", cuadrados)\n",
    "print(\"Pares:\", pares)\n",
    "\n",
    "# Diccionario inverso (materia -> profe) => (profe -> materia)\n",
    "materia_a_profe = {\"Mate\": \"Sofía\", \"Física\": \"Sofía\", \"Historia\": \"Carlos\"}\n",
    "# Si un profe repite, guardamos una sola materia (ejemplo simple)\n",
    "profe_a_materia = {profe: materia for materia, profe in materia_a_profe.items()}\n",
    "print(\"Inverso simple:\", profe_a_materia)\n",
    "\n",
    "# Set comprehension: letras únicas sin vocales\n",
    "s = \"programación\"\n",
    "sin_vocales = {c for c in s if c not in \"aeiouáéíóú\"}\n",
    "print(\"Letras sin vocales:\", sin_vocales)"
   ]
  },
  {
   "cell_type": "markdown",
   "id": "1612b6e9-5ed6-4317-8b09-e1b92ab9f714",
   "metadata": {},
   "source": [
    "Crea colecciones de forma compacta en una sola línea (ej: transformar o filtrar elementos)."
   ]
  },
  {
   "cell_type": "markdown",
   "id": "549cffef-ca25-4f13-be81-36ce217df347",
   "metadata": {},
   "source": [
    "## Funciones (def)"
   ]
  },
  {
   "cell_type": "code",
   "execution_count": 12,
   "id": "c1da5fe7-4117-4b81-8c93-552871fdb7df",
   "metadata": {},
   "outputs": [
    {
     "name": "stdout",
     "output_type": "stream",
     "text": [
      "Área 5x2 = 10\n",
      "¿'Hola1234' es segura? True\n",
      "¿'hola' es segura? False\n"
     ]
    }
   ],
   "source": [
    "def area_rectangulo(base: float, altura: float = 1.0) -> float:\n",
    "    \"\"\"Calcula el área de un rectángulo.\"\"\"\n",
    "    return base * altura\n",
    "\n",
    "def es_segura(pw: str) -> bool:\n",
    "    \"\"\"Contraseña segura: >=8 y contiene mayúscula, minúscula y dígito.\"\"\"\n",
    "    return (\n",
    "        len(pw) >= 8 and\n",
    "        any(c.isupper() for c in pw) and\n",
    "        any(c.islower() for c in pw) and\n",
    "        any(c.isdigit() for c in pw)\n",
    "    )\n",
    "\n",
    "print(\"Área 5x2 =\", area_rectangulo(5, 2))\n",
    "print(\"¿'Hola1234' es segura?\", es_segura(\"Hola1234\"))\n",
    "print(\"¿'hola' es segura?\", es_segura(\"hola\"))"
   ]
  },
  {
   "cell_type": "markdown",
   "id": "1752a31d-d818-4cf4-b0b1-b0e357ad400b",
   "metadata": {},
   "source": [
    "Define los  bloques de código reutilizables con parámetros y retorno de resultados."
   ]
  },
  {
   "cell_type": "markdown",
   "id": "27ba77c3-b068-4764-a525-4ffbe77b90e6",
   "metadata": {},
   "source": [
    "## Módulos y paquetes"
   ]
  },
  {
   "cell_type": "code",
   "execution_count": 14,
   "id": "dd7e5192-563b-4bf7-aa4f-07227fd621c4",
   "metadata": {},
   "outputs": [
    {
     "name": "stdout",
     "output_type": "stream",
     "text": [
      "Limpia: hola mundo, programación en python\n",
      "Vocales: {'a': 3, 'e': 1, 'i': 1, 'o': 4, 'u': 1, 'ó': 1}\n"
     ]
    }
   ],
   "source": [
    "contenido = '''\n",
    "def limpiar_texto(s: str) -> str:\n",
    "    return s.strip().lower()\n",
    "\n",
    "def contar_vocales(s: str) -> dict:\n",
    "    s = s.lower()\n",
    "    vocs = \"aeiouáéíóú\"\n",
    "    return {v: s.count(v) for v in vocs if s.count(v) > 0}\n",
    "'''.lstrip()\n",
    "\n",
    "with open(\"utilidades.py\", \"w\", encoding=\"utf-8\") as f:\n",
    "    f.write(contenido)\n",
    "\n",
    "# Lo importamos y usamos\n",
    "import utilidades as ut\n",
    "\n",
    "frase = \"  HOLA Mundo, Programación en PYTHON  \"\n",
    "print(\"Limpia:\", ut.limpiar_texto(frase))\n",
    "print(\"Vocales:\", ut.contar_vocales(frase))"
   ]
  },
  {
   "cell_type": "markdown",
   "id": "51b9f8c5-2248-4314-bbc9-b4a3af41b160",
   "metadata": {},
   "source": [
    "Organiza el  código en archivos separados para importar y usar en otros programas."
   ]
  },
  {
   "cell_type": "markdown",
   "id": "19884eee-331a-40c2-8d4d-0f5b01fbeb59",
   "metadata": {},
   "source": [
    "## Archivos: leer y escribir"
   ]
  },
  {
   "cell_type": "code",
   "execution_count": 15,
   "id": "5027fc6d-8afb-4c81-a69e-786496d1fb1d",
   "metadata": {},
   "outputs": [
    {
     "name": "stdout",
     "output_type": "stream",
     "text": [
      "Notas leídas: [9.5, 8.0, 7.5, 10.0, 8.5]  Promedio: 8.7\n",
      "Top 5 palabras: [('hola', 3), ('prueba', 2), ('esto', 1), ('es', 1), ('una', 1)]\n"
     ]
    }
   ],
   "source": [
    "notas = [9.5, 8.0, 7.5, 10.0, 8.5]\n",
    "with open(\"notas.txt\", \"w\", encoding=\"utf-8\") as f:\n",
    "    for n in notas:\n",
    "        f.write(f\"{n}\\n\")\n",
    "\n",
    "leidas = []\n",
    "with open(\"notas.txt\", \"r\", encoding=\"utf-8\") as f:\n",
    "    for linea in f:\n",
    "        leidas.append(float(linea.strip()))\n",
    "\n",
    "promedio = sum(leidas) / len(leidas)\n",
    "print(\"Notas leídas:\", leidas, \" Promedio:\", round(promedio, 2))\n",
    "\n",
    "# Mini contador de palabras (simple)\n",
    "texto = \"¡Hola, hola! Esto es una prueba. Prueba simple; hola.\"\n",
    "with open(\"texto.txt\", \"w\", encoding=\"utf-8\") as f:\n",
    "    f.write(texto)\n",
    "\n",
    "import re\n",
    "with open(\"texto.txt\", \"r\", encoding=\"utf-8\") as f:\n",
    "    contenido = f.read().lower()\n",
    "    contenido = re.sub(r\"[^a-záéíóúñü\\s]\", \" \", contenido)  # quita signos\n",
    "    palabras = [p for p in contenido.split() if p]\n",
    "\n",
    "from collections import Counter\n",
    "top5 = Counter(palabras).most_common(5)\n",
    "print(\"Top 5 palabras:\", top5)"
   ]
  },
  {
   "cell_type": "markdown",
   "id": "a9303d9d-ecf8-464b-a994-29657de5d6f2",
   "metadata": {},
   "source": [
    "Lee y escribe datos en files del sistema (persistencia de información)."
   ]
  },
  {
   "cell_type": "markdown",
   "id": "a66b8b00-dbee-4b96-b538-b6db526aea33",
   "metadata": {},
   "source": [
    "## 12) Errores y excepciones"
   ]
  },
  {
   "cell_type": "code",
   "execution_count": 16,
   "id": "0d6fa657-29ba-43b3-9394-074ff6d1cfff",
   "metadata": {},
   "outputs": [
    {
     "name": "stdout",
     "output_type": "stream",
     "text": [
      "10 / 2 = 5.0\n",
      "ValueError con (5, 0): No se puede dividir entre cero.\n",
      "TypeError con (9, 3): unsupported operand type(s) for /: 'str' and 'int'\n"
     ]
    }
   ],
   "source": [
    "def dividir_seguro(a, b):\n",
    "    if b == 0:\n",
    "        raise ValueError(\"No se puede dividir entre cero.\")\n",
    "    return a / b\n",
    "\n",
    "# Ejemplos con manejo de excepciones\n",
    "casos = [(10, 2), (5, 0), (\"9\", 3)]\n",
    "for x, y in casos:\n",
    "    try:\n",
    "        resultado = dividir_seguro(x, y)\n",
    "    except TypeError as e:\n",
    "        print(f\"TypeError con ({x}, {y}): {e}\")\n",
    "    except ValueError as e:\n",
    "        print(f\"ValueError con ({x}, {y}): {e}\")\n",
    "    else:\n",
    "        print(f\"{x} / {y} = {resultado}\")\n",
    "    finally:\n",
    "        pass  # lugar para liberar recursos si fuera necesario\n"
   ]
  },
  {
   "cell_type": "markdown",
   "id": "46ae7344-2451-4e81-96d4-a4e3f7c4bdc8",
   "metadata": {},
   "source": [
    "Captura y controla las  excepciones para evitar que el programa falle inesperadamente."
   ]
  }
 ],
 "metadata": {
  "kernelspec": {
   "display_name": "Python 3 (ipykernel)",
   "language": "python",
   "name": "python3"
  },
  "language_info": {
   "codemirror_mode": {
    "name": "ipython",
    "version": 3
   },
   "file_extension": ".py",
   "mimetype": "text/x-python",
   "name": "python",
   "nbconvert_exporter": "python",
   "pygments_lexer": "ipython3",
   "version": "3.10.18"
  }
 },
 "nbformat": 4,
 "nbformat_minor": 5
}
